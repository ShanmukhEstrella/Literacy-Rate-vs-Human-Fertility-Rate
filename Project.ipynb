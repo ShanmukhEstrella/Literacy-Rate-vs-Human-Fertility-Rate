{
 "cells": [
  {
   "cell_type": "markdown",
   "id": "2eebf971-e959-4609-b1f0-5145264f9efe",
   "metadata": {},
   "source": [
    "# The inference is that the literacy rate impacts the fertility rate. As education spread in India, more people began considering family planning. By the early 2000s, there was a growing scientific awareness that having more births could lead to significant health problems for women. The data analysis regarding the same was done below."
   ]
  },
  {
   "cell_type": "code",
   "execution_count": 4,
   "id": "dba31a7e-ddef-4488-97cb-35e6e8fae57c",
   "metadata": {},
   "outputs": [
    {
     "name": "stdout",
     "output_type": "stream",
     "text": [
      "Collecting seaborn\n",
      "  Downloading seaborn-0.13.2-py3-none-any.whl.metadata (5.4 kB)\n",
      "Requirement already satisfied: numpy!=1.24.0,>=1.20 in c:\\users\\satya\\anaconda\\envs\\scintillator_sha\\lib\\site-packages (from seaborn) (1.26.4)\n",
      "Requirement already satisfied: pandas>=1.2 in c:\\users\\satya\\anaconda\\envs\\scintillator_sha\\lib\\site-packages (from seaborn) (2.2.1)\n",
      "Collecting matplotlib!=3.6.1,>=3.4 (from seaborn)\n",
      "  Downloading matplotlib-3.9.0-cp312-cp312-win_amd64.whl.metadata (11 kB)\n",
      "Collecting contourpy>=1.0.1 (from matplotlib!=3.6.1,>=3.4->seaborn)\n",
      "  Downloading contourpy-1.2.1-cp312-cp312-win_amd64.whl.metadata (5.8 kB)\n",
      "Collecting cycler>=0.10 (from matplotlib!=3.6.1,>=3.4->seaborn)\n",
      "  Downloading cycler-0.12.1-py3-none-any.whl.metadata (3.8 kB)\n",
      "Collecting fonttools>=4.22.0 (from matplotlib!=3.6.1,>=3.4->seaborn)\n",
      "  Downloading fonttools-4.53.0-cp312-cp312-win_amd64.whl.metadata (165 kB)\n",
      "     ---------------------------------------- 0.0/165.5 kB ? eta -:--:--\n",
      "     -- ------------------------------------- 10.2/165.5 kB ? eta -:--:--\n",
      "     ------ ------------------------------ 30.7/165.5 kB 435.7 kB/s eta 0:00:01\n",
      "     ---------------- -------------------- 71.7/165.5 kB 563.7 kB/s eta 0:00:01\n",
      "     ---------------------------- ------- 133.1/165.5 kB 787.7 kB/s eta 0:00:01\n",
      "     -----------------------------------  163.8/165.5 kB 893.0 kB/s eta 0:00:01\n",
      "     ------------------------------------ 165.5/165.5 kB 708.9 kB/s eta 0:00:00\n",
      "Collecting kiwisolver>=1.3.1 (from matplotlib!=3.6.1,>=3.4->seaborn)\n",
      "  Downloading kiwisolver-1.4.5-cp312-cp312-win_amd64.whl.metadata (6.5 kB)\n",
      "Requirement already satisfied: packaging>=20.0 in c:\\users\\satya\\anaconda\\envs\\scintillator_sha\\lib\\site-packages (from matplotlib!=3.6.1,>=3.4->seaborn) (23.2)\n",
      "Collecting pillow>=8 (from matplotlib!=3.6.1,>=3.4->seaborn)\n",
      "  Downloading pillow-10.3.0-cp312-cp312-win_amd64.whl.metadata (9.4 kB)\n",
      "Collecting pyparsing>=2.3.1 (from matplotlib!=3.6.1,>=3.4->seaborn)\n",
      "  Downloading pyparsing-3.1.2-py3-none-any.whl.metadata (5.1 kB)\n",
      "Requirement already satisfied: python-dateutil>=2.7 in c:\\users\\satya\\anaconda\\envs\\scintillator_sha\\lib\\site-packages (from matplotlib!=3.6.1,>=3.4->seaborn) (2.9.0.post0)\n",
      "Requirement already satisfied: pytz>=2020.1 in c:\\users\\satya\\anaconda\\envs\\scintillator_sha\\lib\\site-packages (from pandas>=1.2->seaborn) (2024.1)\n",
      "Requirement already satisfied: tzdata>=2022.7 in c:\\users\\satya\\anaconda\\envs\\scintillator_sha\\lib\\site-packages (from pandas>=1.2->seaborn) (2023.3)\n",
      "Requirement already satisfied: six>=1.5 in c:\\users\\satya\\anaconda\\envs\\scintillator_sha\\lib\\site-packages (from python-dateutil>=2.7->matplotlib!=3.6.1,>=3.4->seaborn) (1.16.0)\n",
      "Downloading seaborn-0.13.2-py3-none-any.whl (294 kB)\n",
      "   ---------------------------------------- 0.0/294.9 kB ? eta -:--:--\n",
      "   -------------------------- ------------- 194.6/294.9 kB 5.9 MB/s eta 0:00:01\n",
      "   -------------------------------------- - 286.7/294.9 kB 3.0 MB/s eta 0:00:01\n",
      "   ---------------------------------------- 294.9/294.9 kB 2.6 MB/s eta 0:00:00\n",
      "Downloading matplotlib-3.9.0-cp312-cp312-win_amd64.whl (8.0 MB)\n",
      "   ---------------------------------------- 0.0/8.0 MB ? eta -:--:--\n",
      "   -- ------------------------------------- 0.5/8.0 MB 15.5 MB/s eta 0:00:01\n",
      "   -- ------------------------------------- 0.6/8.0 MB 7.2 MB/s eta 0:00:02\n",
      "   ------ --------------------------------- 1.4/8.0 MB 10.8 MB/s eta 0:00:01\n",
      "   -------- ------------------------------- 1.8/8.0 MB 10.2 MB/s eta 0:00:01\n",
      "   ----------- ---------------------------- 2.3/8.0 MB 11.5 MB/s eta 0:00:01\n",
      "   ----------- ---------------------------- 2.3/8.0 MB 11.5 MB/s eta 0:00:01\n",
      "   ------------ --------------------------- 2.5/8.0 MB 8.4 MB/s eta 0:00:01\n",
      "   ------------ --------------------------- 2.5/8.0 MB 8.4 MB/s eta 0:00:01\n",
      "   ------------- -------------------------- 2.8/8.0 MB 7.1 MB/s eta 0:00:01\n",
      "   -------------- ------------------------- 2.8/8.0 MB 6.9 MB/s eta 0:00:01\n",
      "   ---------------- ----------------------- 3.3/8.0 MB 6.6 MB/s eta 0:00:01\n",
      "   -------------------- ------------------- 4.1/8.0 MB 7.7 MB/s eta 0:00:01\n",
      "   -------------------- ------------------- 4.1/8.0 MB 7.7 MB/s eta 0:00:01\n",
      "   --------------------- ------------------ 4.3/8.0 MB 7.0 MB/s eta 0:00:01\n",
      "   ----------------------- ---------------- 4.7/8.0 MB 6.9 MB/s eta 0:00:01\n",
      "   ------------------------- -------------- 5.0/8.0 MB 7.1 MB/s eta 0:00:01\n",
      "   --------------------------- ------------ 5.4/8.0 MB 6.9 MB/s eta 0:00:01\n",
      "   ---------------------------- ----------- 5.6/8.0 MB 6.9 MB/s eta 0:00:01\n",
      "   ------------------------------ --------- 6.1/8.0 MB 7.0 MB/s eta 0:00:01\n",
      "   ------------------------------- -------- 6.3/8.0 MB 7.2 MB/s eta 0:00:01\n",
      "   ------------------------------- -------- 6.3/8.0 MB 7.2 MB/s eta 0:00:01\n",
      "   -------------------------------- ------- 6.5/8.0 MB 6.7 MB/s eta 0:00:01\n",
      "   -------------------------------- ------- 6.5/8.0 MB 6.7 MB/s eta 0:00:01\n",
      "   ---------------------------------- ----- 6.9/8.0 MB 6.5 MB/s eta 0:00:01\n",
      "   ---------------------------------------  8.0/8.0 MB 7.1 MB/s eta 0:00:01\n",
      "   ---------------------------------------- 8.0/8.0 MB 6.8 MB/s eta 0:00:00\n",
      "Downloading contourpy-1.2.1-cp312-cp312-win_amd64.whl (189 kB)\n",
      "   ---------------------------------------- 0.0/189.9 kB ? eta -:--:--\n",
      "   ---------------------------------------- 189.9/189.9 kB 5.6 MB/s eta 0:00:00\n",
      "Downloading cycler-0.12.1-py3-none-any.whl (8.3 kB)\n",
      "Downloading fonttools-4.53.0-cp312-cp312-win_amd64.whl (2.2 MB)\n",
      "   ---------------------------------------- 0.0/2.2 MB ? eta -:--:--\n",
      "   -------- ------------------------------- 0.5/2.2 MB 14.2 MB/s eta 0:00:01\n",
      "   -------------- ------------------------- 0.8/2.2 MB 9.8 MB/s eta 0:00:01\n",
      "   ---------------------- ----------------- 1.2/2.2 MB 9.8 MB/s eta 0:00:01\n",
      "   ---------------------------- ----------- 1.6/2.2 MB 9.0 MB/s eta 0:00:01\n",
      "   ------------------------------------- -- 2.0/2.2 MB 9.3 MB/s eta 0:00:01\n",
      "   ---------------------------------------  2.2/2.2 MB 8.7 MB/s eta 0:00:01\n",
      "   ---------------------------------------- 2.2/2.2 MB 7.8 MB/s eta 0:00:00\n",
      "Downloading kiwisolver-1.4.5-cp312-cp312-win_amd64.whl (56 kB)\n",
      "   ---------------------------------------- 0.0/56.0 kB ? eta -:--:--\n",
      "   ---------------------------------------- 56.0/56.0 kB 1.5 MB/s eta 0:00:00\n",
      "Downloading pillow-10.3.0-cp312-cp312-win_amd64.whl (2.5 MB)\n",
      "   ---------------------------------------- 0.0/2.5 MB ? eta -:--:--\n",
      "   ------ --------------------------------- 0.4/2.5 MB 8.5 MB/s eta 0:00:01\n",
      "   ----------- ---------------------------- 0.7/2.5 MB 7.8 MB/s eta 0:00:01\n",
      "   ------------------- -------------------- 1.2/2.5 MB 8.6 MB/s eta 0:00:01\n",
      "   ------------------------ --------------- 1.6/2.5 MB 8.3 MB/s eta 0:00:01\n",
      "   -------------------------------- ------- 2.1/2.5 MB 8.8 MB/s eta 0:00:01\n",
      "   --------------------------------- ------ 2.1/2.5 MB 8.5 MB/s eta 0:00:01\n",
      "   --------------------------------- ------ 2.1/2.5 MB 8.5 MB/s eta 0:00:01\n",
      "   ---------------------------------------  2.5/2.5 MB 7.0 MB/s eta 0:00:01\n",
      "   ---------------------------------------- 2.5/2.5 MB 6.7 MB/s eta 0:00:00\n",
      "Downloading pyparsing-3.1.2-py3-none-any.whl (103 kB)\n",
      "   ---------------------------------------- 0.0/103.2 kB ? eta -:--:--\n",
      "   ---------------------------------------- 103.2/103.2 kB 3.0 MB/s eta 0:00:00\n",
      "Installing collected packages: pyparsing, pillow, kiwisolver, fonttools, cycler, contourpy, matplotlib, seaborn\n",
      "Successfully installed contourpy-1.2.1 cycler-0.12.1 fonttools-4.53.0 kiwisolver-1.4.5 matplotlib-3.9.0 pillow-10.3.0 pyparsing-3.1.2 seaborn-0.13.2\n"
     ]
    }
   ],
   "source": [
    "!pip install seaborn"
   ]
  },
  {
   "cell_type": "code",
   "execution_count": 38,
   "id": "f9015dd5-1d0b-464e-8aba-d02001389c85",
   "metadata": {},
   "outputs": [],
   "source": [
    "import pandas as pd\n",
    "import numpy as np\n",
    "import seaborn as sns\n",
    "import matplotlib.pyplot as plt"
   ]
  },
  {
   "cell_type": "code",
   "execution_count": 100,
   "id": "236a8137-2a55-47a6-9fbc-80567170790b",
   "metadata": {},
   "outputs": [
    {
     "data": {
      "text/html": [
       "<div>\n",
       "<style scoped>\n",
       "    .dataframe tbody tr th:only-of-type {\n",
       "        vertical-align: middle;\n",
       "    }\n",
       "\n",
       "    .dataframe tbody tr th {\n",
       "        vertical-align: top;\n",
       "    }\n",
       "\n",
       "    .dataframe thead th {\n",
       "        text-align: right;\n",
       "    }\n",
       "</style>\n",
       "<table border=\"1\" class=\"dataframe\">\n",
       "  <thead>\n",
       "    <tr style=\"text-align: right;\">\n",
       "      <th></th>\n",
       "      <th>Year</th>\n",
       "      <th>Overall</th>\n",
       "      <th>Men</th>\n",
       "      <th>Women</th>\n",
       "    </tr>\n",
       "  </thead>\n",
       "  <tbody>\n",
       "    <tr>\n",
       "      <th>0</th>\n",
       "      <td>1880</td>\n",
       "      <td>8.10</td>\n",
       "      <td>0.350</td>\n",
       "      <td>4.32</td>\n",
       "    </tr>\n",
       "    <tr>\n",
       "      <th>1</th>\n",
       "      <td>1885</td>\n",
       "      <td>8.27</td>\n",
       "      <td>0.385</td>\n",
       "      <td>4.47</td>\n",
       "    </tr>\n",
       "    <tr>\n",
       "      <th>2</th>\n",
       "      <td>1890</td>\n",
       "      <td>8.44</td>\n",
       "      <td>0.420</td>\n",
       "      <td>4.62</td>\n",
       "    </tr>\n",
       "    <tr>\n",
       "      <th>3</th>\n",
       "      <td>1895</td>\n",
       "      <td>9.12</td>\n",
       "      <td>0.510</td>\n",
       "      <td>5.01</td>\n",
       "    </tr>\n",
       "    <tr>\n",
       "      <th>4</th>\n",
       "      <td>1900</td>\n",
       "      <td>9.80</td>\n",
       "      <td>0.600</td>\n",
       "      <td>5.40</td>\n",
       "    </tr>\n",
       "  </tbody>\n",
       "</table>\n",
       "</div>"
      ],
      "text/plain": [
       "   Year  Overall    Men  Women\n",
       "0  1880     8.10  0.350   4.32\n",
       "1  1885     8.27  0.385   4.47\n",
       "2  1890     8.44  0.420   4.62\n",
       "3  1895     9.12  0.510   5.01\n",
       "4  1900     9.80  0.600   5.40"
      ]
     },
     "execution_count": 100,
     "metadata": {},
     "output_type": "execute_result"
    }
   ],
   "source": [
    "data1 = pd.read_csv(\"LiteracyRates India.csv\")\n",
    "data1.head()"
   ]
  },
  {
   "cell_type": "code",
   "execution_count": 64,
   "id": "069cc5f0-0973-4a5b-9237-26ef14e81eb2",
   "metadata": {},
   "outputs": [
    {
     "data": {
      "text/plain": [
       "Index(['Year', 'Overall', 'Men', 'Women'], dtype='object')"
      ]
     },
     "execution_count": 64,
     "metadata": {},
     "output_type": "execute_result"
    }
   ],
   "source": [
    "data1.columns"
   ]
  },
  {
   "cell_type": "code",
   "execution_count": 65,
   "id": "f342f0c7-1163-439a-adcc-7bcd17ba966d",
   "metadata": {},
   "outputs": [
    {
     "data": {
      "text/html": [
       "<div>\n",
       "<style scoped>\n",
       "    .dataframe tbody tr th:only-of-type {\n",
       "        vertical-align: middle;\n",
       "    }\n",
       "\n",
       "    .dataframe tbody tr th {\n",
       "        vertical-align: top;\n",
       "    }\n",
       "\n",
       "    .dataframe thead th {\n",
       "        text-align: right;\n",
       "    }\n",
       "</style>\n",
       "<table border=\"1\" class=\"dataframe\">\n",
       "  <thead>\n",
       "    <tr style=\"text-align: right;\">\n",
       "      <th></th>\n",
       "      <th>Year</th>\n",
       "      <th>Overall</th>\n",
       "      <th>Men</th>\n",
       "      <th>Women</th>\n",
       "    </tr>\n",
       "  </thead>\n",
       "  <tbody>\n",
       "    <tr>\n",
       "      <th>count</th>\n",
       "      <td>27.00000</td>\n",
       "      <td>27.000000</td>\n",
       "      <td>27.000000</td>\n",
       "      <td>27.000000</td>\n",
       "    </tr>\n",
       "    <tr>\n",
       "      <th>mean</th>\n",
       "      <td>1945.00000</td>\n",
       "      <td>33.963704</td>\n",
       "      <td>17.205741</td>\n",
       "      <td>25.865185</td>\n",
       "    </tr>\n",
       "    <tr>\n",
       "      <th>std</th>\n",
       "      <td>39.68627</td>\n",
       "      <td>25.091166</td>\n",
       "      <td>20.219125</td>\n",
       "      <td>22.628839</td>\n",
       "    </tr>\n",
       "    <tr>\n",
       "      <th>min</th>\n",
       "      <td>1880.00000</td>\n",
       "      <td>8.100000</td>\n",
       "      <td>0.350000</td>\n",
       "      <td>4.320000</td>\n",
       "    </tr>\n",
       "    <tr>\n",
       "      <th>25%</th>\n",
       "      <td>1912.50000</td>\n",
       "      <td>11.000000</td>\n",
       "      <td>1.200000</td>\n",
       "      <td>6.225000</td>\n",
       "    </tr>\n",
       "    <tr>\n",
       "      <th>50%</th>\n",
       "      <td>1945.00000</td>\n",
       "      <td>26.030000</td>\n",
       "      <td>8.080000</td>\n",
       "      <td>17.215000</td>\n",
       "    </tr>\n",
       "    <tr>\n",
       "      <th>75%</th>\n",
       "      <td>1977.50000</td>\n",
       "      <td>53.775000</td>\n",
       "      <td>27.812500</td>\n",
       "      <td>41.290000</td>\n",
       "    </tr>\n",
       "    <tr>\n",
       "      <th>max</th>\n",
       "      <td>2010.00000</td>\n",
       "      <td>82.140000</td>\n",
       "      <td>65.460000</td>\n",
       "      <td>74.040000</td>\n",
       "    </tr>\n",
       "  </tbody>\n",
       "</table>\n",
       "</div>"
      ],
      "text/plain": [
       "             Year    Overall        Men      Women\n",
       "count    27.00000  27.000000  27.000000  27.000000\n",
       "mean   1945.00000  33.963704  17.205741  25.865185\n",
       "std      39.68627  25.091166  20.219125  22.628839\n",
       "min    1880.00000   8.100000   0.350000   4.320000\n",
       "25%    1912.50000  11.000000   1.200000   6.225000\n",
       "50%    1945.00000  26.030000   8.080000  17.215000\n",
       "75%    1977.50000  53.775000  27.812500  41.290000\n",
       "max    2010.00000  82.140000  65.460000  74.040000"
      ]
     },
     "execution_count": 65,
     "metadata": {},
     "output_type": "execute_result"
    }
   ],
   "source": [
    "data1.describe()"
   ]
  },
  {
   "cell_type": "code",
   "execution_count": 101,
   "id": "f38bc2e5-e041-4b80-819d-37afa8397fe7",
   "metadata": {},
   "outputs": [],
   "source": [
    "data2 = pd.read_csv(\"FertilityRate India.csv\")"
   ]
  },
  {
   "cell_type": "code",
   "execution_count": 80,
   "id": "b415a828-2c51-4e70-a6ce-1f50fba1a051",
   "metadata": {},
   "outputs": [
    {
     "data": {
      "text/html": [
       "<div>\n",
       "<style scoped>\n",
       "    .dataframe tbody tr th:only-of-type {\n",
       "        vertical-align: middle;\n",
       "    }\n",
       "\n",
       "    .dataframe tbody tr th {\n",
       "        vertical-align: top;\n",
       "    }\n",
       "\n",
       "    .dataframe thead th {\n",
       "        text-align: right;\n",
       "    }\n",
       "</style>\n",
       "<table border=\"1\" class=\"dataframe\">\n",
       "  <thead>\n",
       "    <tr style=\"text-align: right;\">\n",
       "      <th></th>\n",
       "      <th>Year</th>\n",
       "      <th>Fertility Rate</th>\n",
       "    </tr>\n",
       "  </thead>\n",
       "  <tbody>\n",
       "    <tr>\n",
       "      <th>count</th>\n",
       "      <td>27.00000</td>\n",
       "      <td>27.000000</td>\n",
       "    </tr>\n",
       "    <tr>\n",
       "      <th>mean</th>\n",
       "      <td>1945.00000</td>\n",
       "      <td>5.301481</td>\n",
       "    </tr>\n",
       "    <tr>\n",
       "      <th>std</th>\n",
       "      <td>39.68627</td>\n",
       "      <td>0.944920</td>\n",
       "    </tr>\n",
       "    <tr>\n",
       "      <th>min</th>\n",
       "      <td>1880.00000</td>\n",
       "      <td>2.800000</td>\n",
       "    </tr>\n",
       "    <tr>\n",
       "      <th>25%</th>\n",
       "      <td>1912.50000</td>\n",
       "      <td>5.190000</td>\n",
       "    </tr>\n",
       "    <tr>\n",
       "      <th>50%</th>\n",
       "      <td>1945.00000</td>\n",
       "      <td>5.730000</td>\n",
       "    </tr>\n",
       "    <tr>\n",
       "      <th>75%</th>\n",
       "      <td>1977.50000</td>\n",
       "      <td>5.890000</td>\n",
       "    </tr>\n",
       "    <tr>\n",
       "      <th>max</th>\n",
       "      <td>2010.00000</td>\n",
       "      <td>5.950000</td>\n",
       "    </tr>\n",
       "  </tbody>\n",
       "</table>\n",
       "</div>"
      ],
      "text/plain": [
       "             Year  Fertility Rate\n",
       "count    27.00000       27.000000\n",
       "mean   1945.00000        5.301481\n",
       "std      39.68627        0.944920\n",
       "min    1880.00000        2.800000\n",
       "25%    1912.50000        5.190000\n",
       "50%    1945.00000        5.730000\n",
       "75%    1977.50000        5.890000\n",
       "max    2010.00000        5.950000"
      ]
     },
     "execution_count": 80,
     "metadata": {},
     "output_type": "execute_result"
    }
   ],
   "source": [
    "data2.describe()"
   ]
  },
  {
   "cell_type": "code",
   "execution_count": 81,
   "id": "e9284fc8-58dc-4ce0-8211-f1518cd45e3e",
   "metadata": {},
   "outputs": [],
   "source": [
    "# list1 = list(data2[\"Fertility Rate\"])\n",
    "# list2 = list(data2[\"Year\"])\n",
    "# data2 = pd.Series(list2,list1)"
   ]
  },
  {
   "cell_type": "code",
   "execution_count": 83,
   "id": "ce90eed8-ae2e-4b2d-b405-d0cf53f72128",
   "metadata": {},
   "outputs": [],
   "source": [
    "# list3 = list(data1[\"Overall\"])\n",
    "# data1 = pd.Series(list3,list2)"
   ]
  },
  {
   "cell_type": "code",
   "execution_count": 99,
   "id": "5d8348f4-ad87-4714-87a8-88de12bf2b88",
   "metadata": {},
   "outputs": [],
   "source": [
    "# required_data = data2.map(data1)\n",
    "# required_data = pd.DataFrame(required_data)\n",
    "# required_data.rename(columns = {0: 'Fert',1 : 'Lit'}, inplace = True)\n",
    "# required_data"
   ]
  },
  {
   "cell_type": "markdown",
   "id": "56076320-efba-48d8-ad27-09a99f3d87f6",
   "metadata": {},
   "source": [
    " # Relating the variables with scatterplots"
   ]
  },
  {
   "cell_type": "code",
   "execution_count": 102,
   "id": "c3c572a9-7b25-4328-a8df-988b0a0ecea5",
   "metadata": {},
   "outputs": [
    {
     "data": {
      "text/plain": [
       "<seaborn.axisgrid.FacetGrid at 0x273e8536090>"
      ]
     },
     "execution_count": 102,
     "metadata": {},
     "output_type": "execute_result"
    },
    {
     "data": {
      "image/png": "[encoded data removed]",
      "text/plain": [
       "<Figure size 500x500 with 1 Axes>"
      ]
     },
     "metadata": {},
     "output_type": "display_data"
    }
   ],
   "source": [
    "sns.relplot(x=\"Year\",y=\"Men\",data = data1)"
   ]
  },
  {
   "cell_type": "code",
   "execution_count": 103,
   "id": "2cec2c2e-3ad5-424f-a0cc-918153544e35",
   "metadata": {},
   "outputs": [
    {
     "data": {
      "text/plain": [
       "<seaborn.axisgrid.FacetGrid at 0x273e853a0c0>"
      ]
     },
     "execution_count": 103,
     "metadata": {},
     "output_type": "execute_result"
    },
    {
     "data": {
      "image/png": "[encoded data removed]",
      "text/plain": [
       "<Figure size 500x500 with 1 Axes>"
      ]
     },
     "metadata": {},
     "output_type": "display_data"
    }
   ],
   "source": [
    "sns.relplot(x=\"Year\",y=\"Women\",data = data1)"
   ]
  },
  {
   "cell_type": "code",
   "execution_count": 104,
   "id": "4b2e55c8-7f09-4c04-becc-57ff428c7357",
   "metadata": {},
   "outputs": [
    {
     "data": {
      "text/plain": [
       "<seaborn.axisgrid.FacetGrid at 0x273e858ede0>"
      ]
     },
     "execution_count": 104,
     "metadata": {},
     "output_type": "execute_result"
    },
    {
     "data": {
      "image/png": "[encoded data removed]",
      "text/plain": [
       "<Figure size 500x500 with 1 Axes>"
      ]
     },
     "metadata": {},
     "output_type": "display_data"
    }
   ],
   "source": [
    "sns.relplot(x=\"Year\",y=\"Overall\",data = data1)"
   ]
  },
  {
   "cell_type": "code",
   "execution_count": 105,
   "id": "fe125568-8594-4df3-819a-d2de16da76b4",
   "metadata": {},
   "outputs": [
    {
     "data": {
      "text/plain": [
       "<seaborn.axisgrid.FacetGrid at 0x273e8596d50>"
      ]
     },
     "execution_count": 105,
     "metadata": {},
     "output_type": "execute_result"
    },
    {
     "data": {
      "image/png": "[encoded data removed]",
      "text/plain": [
       "<Figure size 500x500 with 1 Axes>"
      ]
     },
     "metadata": {},
     "output_type": "display_data"
    }
   ],
   "source": [
    "sns.relplot(x=\"Year\",y=\"Fertility Rate\",data = data2)"
   ]
  }
 ],
 "metadata": {
  "kernelspec": {
   "display_name": "Python 3 (ipykernel)",
   "language": "python",
   "name": "python3"
  },
  "language_info": {
   "codemirror_mode": {
    "name": "ipython",
    "version": 3
   },
   "file_extension": ".py",
   "mimetype": "text/x-python",
   "name": "python",
   "nbconvert_exporter": "python",
   "pygments_lexer": "ipython3",
   "version": "3.12.3"
  }
 },
 "nbformat": 4,
 "nbformat_minor": 5
}
